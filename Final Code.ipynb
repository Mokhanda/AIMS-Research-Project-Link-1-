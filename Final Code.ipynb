{
 "cells": [
  {
   "cell_type": "markdown",
   "metadata": {},
   "source": [
    "# Simon Mokhanda (Modelling Options on Futures & Forwards)"
   ]
  },
  {
   "cell_type": "markdown",
   "metadata": {},
   "source": [
    "### 1) Defining Functions"
   ]
  },
  {
   "cell_type": "code",
   "execution_count": 1,
   "metadata": {},
   "outputs": [],
   "source": [
    "import math\n",
    "from scipy import special\n",
    "import numpy as np\n",
    "import matplotlib.pyplot as plt"
   ]
  },
  {
   "cell_type": "code",
   "execution_count": 2,
   "metadata": {},
   "outputs": [],
   "source": [
    "def myNormCDF(x):\n",
    "    return 0.5*(math.erfc(-x/np.sqrt(2)))\n",
    "#myNormCDF(1)"
   ]
  },
  {
   "cell_type": "code",
   "execution_count": 3,
   "metadata": {},
   "outputs": [],
   "source": [
    "def myNormInv(p):\n",
    "    return -1*np.sqrt(2)*special.erfcinv(2*p)\n",
    "#myNormInv(0.5)"
   ]
  },
  {
   "cell_type": "code",
   "execution_count": 4,
   "metadata": {},
   "outputs": [],
   "source": [
    "def myNormPDF(x):\n",
    "    return (1/np.sqrt(2*np.pi))*np.exp(-1*(x**x)/2)\n",
    "#myNormPDF(2)"
   ]
  },
  {
   "cell_type": "code",
   "execution_count": 5,
   "metadata": {},
   "outputs": [],
   "source": [
    "def myPDF(x,av,sg):\n",
    "    return (1/np.sqrt(2*np.pi*sg*sg))**np.exp(-((x-av)**2)/(2*sg*sg))\n",
    "#myPDF(2,4,2)"
   ]
  },
  {
   "cell_type": "code",
   "execution_count": null,
   "metadata": {},
   "outputs": [],
   "source": []
  },
  {
   "cell_type": "markdown",
   "metadata": {},
   "source": [
    "### 2) Importing Futures Data"
   ]
  },
  {
   "cell_type": "code",
   "execution_count": 6,
   "metadata": {},
   "outputs": [
    {
     "data": {
      "text/html": [
       "<div>\n",
       "<style scoped>\n",
       "    .dataframe tbody tr th:only-of-type {\n",
       "        vertical-align: middle;\n",
       "    }\n",
       "\n",
       "    .dataframe tbody tr th {\n",
       "        vertical-align: top;\n",
       "    }\n",
       "\n",
       "    .dataframe thead th {\n",
       "        text-align: right;\n",
       "    }\n",
       "</style>\n",
       "<table border=\"1\" class=\"dataframe\">\n",
       "  <thead>\n",
       "    <tr style=\"text-align: right;\">\n",
       "      <th></th>\n",
       "      <th>Date</th>\n",
       "      <th>Open</th>\n",
       "      <th>High</th>\n",
       "      <th>Low</th>\n",
       "      <th>Close</th>\n",
       "      <th>Adj Close</th>\n",
       "      <th>Volume</th>\n",
       "    </tr>\n",
       "  </thead>\n",
       "  <tbody>\n",
       "    <tr>\n",
       "      <th>0</th>\n",
       "      <td>2015-01-02</td>\n",
       "      <td>2055.00</td>\n",
       "      <td>2067.25</td>\n",
       "      <td>2038.75</td>\n",
       "      <td>2046.25</td>\n",
       "      <td>2046.25</td>\n",
       "      <td>1358348</td>\n",
       "    </tr>\n",
       "    <tr>\n",
       "      <th>1</th>\n",
       "      <td>2015-01-05</td>\n",
       "      <td>2045.75</td>\n",
       "      <td>2048.25</td>\n",
       "      <td>2009.50</td>\n",
       "      <td>2016.00</td>\n",
       "      <td>2016.00</td>\n",
       "      <td>2033774</td>\n",
       "    </tr>\n",
       "    <tr>\n",
       "      <th>2</th>\n",
       "      <td>2015-01-06</td>\n",
       "      <td>2019.00</td>\n",
       "      <td>2023.50</td>\n",
       "      <td>1984.25</td>\n",
       "      <td>1994.50</td>\n",
       "      <td>1994.50</td>\n",
       "      <td>2345361</td>\n",
       "    </tr>\n",
       "    <tr>\n",
       "      <th>3</th>\n",
       "      <td>2015-01-07</td>\n",
       "      <td>1996.50</td>\n",
       "      <td>2023.75</td>\n",
       "      <td>1995.75</td>\n",
       "      <td>2019.50</td>\n",
       "      <td>2019.50</td>\n",
       "      <td>1760658</td>\n",
       "    </tr>\n",
       "    <tr>\n",
       "      <th>4</th>\n",
       "      <td>2015-01-08</td>\n",
       "      <td>2020.50</td>\n",
       "      <td>2058.50</td>\n",
       "      <td>2020.25</td>\n",
       "      <td>2055.00</td>\n",
       "      <td>2055.00</td>\n",
       "      <td>1555733</td>\n",
       "    </tr>\n",
       "    <tr>\n",
       "      <th>...</th>\n",
       "      <td>...</td>\n",
       "      <td>...</td>\n",
       "      <td>...</td>\n",
       "      <td>...</td>\n",
       "      <td>...</td>\n",
       "      <td>...</td>\n",
       "      <td>...</td>\n",
       "    </tr>\n",
       "    <tr>\n",
       "      <th>1619</th>\n",
       "      <td>2021-06-25</td>\n",
       "      <td>4262.00</td>\n",
       "      <td>4276.75</td>\n",
       "      <td>4253.50</td>\n",
       "      <td>4271.25</td>\n",
       "      <td>4271.25</td>\n",
       "      <td>906160</td>\n",
       "    </tr>\n",
       "    <tr>\n",
       "      <th>1620</th>\n",
       "      <td>2021-06-28</td>\n",
       "      <td>4275.00</td>\n",
       "      <td>4282.00</td>\n",
       "      <td>4264.25</td>\n",
       "      <td>4280.50</td>\n",
       "      <td>4280.50</td>\n",
       "      <td>823723</td>\n",
       "    </tr>\n",
       "    <tr>\n",
       "      <th>1621</th>\n",
       "      <td>2021-06-29</td>\n",
       "      <td>4280.50</td>\n",
       "      <td>4291.00</td>\n",
       "      <td>4271.75</td>\n",
       "      <td>4282.00</td>\n",
       "      <td>4282.00</td>\n",
       "      <td>741471</td>\n",
       "    </tr>\n",
       "    <tr>\n",
       "      <th>1622</th>\n",
       "      <td>2021-06-30</td>\n",
       "      <td>4284.75</td>\n",
       "      <td>4294.25</td>\n",
       "      <td>4269.25</td>\n",
       "      <td>4288.50</td>\n",
       "      <td>4288.50</td>\n",
       "      <td>1100062</td>\n",
       "    </tr>\n",
       "    <tr>\n",
       "      <th>1623</th>\n",
       "      <td>2021-07-01</td>\n",
       "      <td>4294.25</td>\n",
       "      <td>4312.00</td>\n",
       "      <td>4286.00</td>\n",
       "      <td>4310.75</td>\n",
       "      <td>4310.75</td>\n",
       "      <td>985190</td>\n",
       "    </tr>\n",
       "  </tbody>\n",
       "</table>\n",
       "<p>1624 rows × 7 columns</p>\n",
       "</div>"
      ],
      "text/plain": [
       "           Date     Open     High      Low    Close  Adj Close   Volume\n",
       "0    2015-01-02  2055.00  2067.25  2038.75  2046.25    2046.25  1358348\n",
       "1    2015-01-05  2045.75  2048.25  2009.50  2016.00    2016.00  2033774\n",
       "2    2015-01-06  2019.00  2023.50  1984.25  1994.50    1994.50  2345361\n",
       "3    2015-01-07  1996.50  2023.75  1995.75  2019.50    2019.50  1760658\n",
       "4    2015-01-08  2020.50  2058.50  2020.25  2055.00    2055.00  1555733\n",
       "...         ...      ...      ...      ...      ...        ...      ...\n",
       "1619 2021-06-25  4262.00  4276.75  4253.50  4271.25    4271.25   906160\n",
       "1620 2021-06-28  4275.00  4282.00  4264.25  4280.50    4280.50   823723\n",
       "1621 2021-06-29  4280.50  4291.00  4271.75  4282.00    4282.00   741471\n",
       "1622 2021-06-30  4284.75  4294.25  4269.25  4288.50    4288.50  1100062\n",
       "1623 2021-07-01  4294.25  4312.00  4286.00  4310.75    4310.75   985190\n",
       "\n",
       "[1624 rows x 7 columns]"
      ]
     },
     "execution_count": 6,
     "metadata": {},
     "output_type": "execute_result"
    }
   ],
   "source": [
    "import pandas as pd\n",
    "Dataframe = pd.read_excel('S&P500Futures_B.xlsx')\n",
    "Dataframe.head(-1)"
   ]
  },
  {
   "cell_type": "code",
   "execution_count": 7,
   "metadata": {},
   "outputs": [
    {
     "data": {
      "text/html": [
       "<div>\n",
       "<style scoped>\n",
       "    .dataframe tbody tr th:only-of-type {\n",
       "        vertical-align: middle;\n",
       "    }\n",
       "\n",
       "    .dataframe tbody tr th {\n",
       "        vertical-align: top;\n",
       "    }\n",
       "\n",
       "    .dataframe thead th {\n",
       "        text-align: right;\n",
       "    }\n",
       "</style>\n",
       "<table border=\"1\" class=\"dataframe\">\n",
       "  <thead>\n",
       "    <tr style=\"text-align: right;\">\n",
       "      <th></th>\n",
       "      <th>Date</th>\n",
       "      <th>Open</th>\n",
       "      <th>High</th>\n",
       "      <th>Low</th>\n",
       "      <th>Close</th>\n",
       "      <th>AdjustedClose</th>\n",
       "      <th>Volume</th>\n",
       "    </tr>\n",
       "  </thead>\n",
       "  <tbody>\n",
       "    <tr>\n",
       "      <th>0</th>\n",
       "      <td>2015-01-02</td>\n",
       "      <td>2055.00</td>\n",
       "      <td>2067.25</td>\n",
       "      <td>2038.75</td>\n",
       "      <td>2046.25</td>\n",
       "      <td>2046.25</td>\n",
       "      <td>1358348</td>\n",
       "    </tr>\n",
       "    <tr>\n",
       "      <th>1</th>\n",
       "      <td>2015-01-05</td>\n",
       "      <td>2045.75</td>\n",
       "      <td>2048.25</td>\n",
       "      <td>2009.50</td>\n",
       "      <td>2016.00</td>\n",
       "      <td>2016.00</td>\n",
       "      <td>2033774</td>\n",
       "    </tr>\n",
       "    <tr>\n",
       "      <th>2</th>\n",
       "      <td>2015-01-06</td>\n",
       "      <td>2019.00</td>\n",
       "      <td>2023.50</td>\n",
       "      <td>1984.25</td>\n",
       "      <td>1994.50</td>\n",
       "      <td>1994.50</td>\n",
       "      <td>2345361</td>\n",
       "    </tr>\n",
       "    <tr>\n",
       "      <th>3</th>\n",
       "      <td>2015-01-07</td>\n",
       "      <td>1996.50</td>\n",
       "      <td>2023.75</td>\n",
       "      <td>1995.75</td>\n",
       "      <td>2019.50</td>\n",
       "      <td>2019.50</td>\n",
       "      <td>1760658</td>\n",
       "    </tr>\n",
       "    <tr>\n",
       "      <th>4</th>\n",
       "      <td>2015-01-08</td>\n",
       "      <td>2020.50</td>\n",
       "      <td>2058.50</td>\n",
       "      <td>2020.25</td>\n",
       "      <td>2055.00</td>\n",
       "      <td>2055.00</td>\n",
       "      <td>1555733</td>\n",
       "    </tr>\n",
       "  </tbody>\n",
       "</table>\n",
       "</div>"
      ],
      "text/plain": [
       "        Date     Open     High      Low    Close  AdjustedClose   Volume\n",
       "0 2015-01-02  2055.00  2067.25  2038.75  2046.25        2046.25  1358348\n",
       "1 2015-01-05  2045.75  2048.25  2009.50  2016.00        2016.00  2033774\n",
       "2 2015-01-06  2019.00  2023.50  1984.25  1994.50        1994.50  2345361\n",
       "3 2015-01-07  1996.50  2023.75  1995.75  2019.50        2019.50  1760658\n",
       "4 2015-01-08  2020.50  2058.50  2020.25  2055.00        2055.00  1555733"
      ]
     },
     "execution_count": 7,
     "metadata": {},
     "output_type": "execute_result"
    }
   ],
   "source": [
    "Dataframe.rename(columns = {'Adj Close':'AdjustedClose'}, inplace = True)\n",
    "Dataframe.head()"
   ]
  },
  {
   "cell_type": "code",
   "execution_count": 8,
   "metadata": {},
   "outputs": [
    {
     "data": {
      "text/plain": [
       "0    2046.25\n",
       "1    2016.00\n",
       "2    1994.50\n",
       "3    2019.50\n",
       "4    2055.00\n",
       "Name: AdjustedClose, dtype: float64"
      ]
     },
     "execution_count": 8,
     "metadata": {},
     "output_type": "execute_result"
    }
   ],
   "source": [
    "FuturesPrice = Dataframe.AdjustedClose \n",
    "FuturesPrice.head()"
   ]
  },
  {
   "cell_type": "code",
   "execution_count": null,
   "metadata": {},
   "outputs": [],
   "source": []
  },
  {
   "cell_type": "code",
   "execution_count": 9,
   "metadata": {},
   "outputs": [
    {
     "data": {
      "text/plain": [
       "array([2046.25, 2016.  , 1994.5 , ..., 4288.5 , 4310.75, 4342.75])"
      ]
     },
     "execution_count": 9,
     "metadata": {},
     "output_type": "execute_result"
    }
   ],
   "source": [
    "import numpy as np\n",
    "F=np.array(FuturesPrice)\n",
    "F"
   ]
  },
  {
   "cell_type": "code",
   "execution_count": 10,
   "metadata": {},
   "outputs": [
    {
     "data": {
      "text/plain": [
       "12.75"
      ]
     },
     "execution_count": 10,
     "metadata": {},
     "output_type": "execute_result"
    }
   ],
   "source": [
    "F[5]-F[6]"
   ]
  },
  {
   "cell_type": "code",
   "execution_count": 11,
   "metadata": {},
   "outputs": [
    {
     "data": {
      "text/plain": [
       "(1824.5, 4342.75)"
      ]
     },
     "execution_count": 11,
     "metadata": {},
     "output_type": "execute_result"
    }
   ],
   "source": [
    "min(F),max(F)"
   ]
  },
  {
   "cell_type": "markdown",
   "metadata": {},
   "source": [
    "### 3) Pricing of S\\&P500 Call on Original Futures"
   ]
  },
  {
   "cell_type": "code",
   "execution_count": 12,
   "metadata": {},
   "outputs": [],
   "source": [
    "def BlackCall(K,F,T,vol,r):\n",
    "    d1 = (np.log(F/K)+ ((vol**2)/2)*T)/ (vol*np.sqrt(T))\n",
    "    d2 = d1-vol*np.sqrt(T)\n",
    "    myNormCDF1=np.array([myNormCDF(a) for a in d1])\n",
    "    myNormCDF2=np.array([myNormCDF(b) for b in d2])\n",
    "    return np.exp(-r*T)*(F*myNormCDF1-K*myNormCDF2)"
   ]
  },
  {
   "cell_type": "code",
   "execution_count": 101,
   "metadata": {},
   "outputs": [
    {
     "data": {
      "image/png": "[encoded data removed]",
      "text/plain": [
       "<Figure size 432x288 with 1 Axes>"
      ]
     },
     "metadata": {
      "needs_background": "light"
     },
     "output_type": "display_data"
    }
   ],
   "source": [
    "r=0.147; vol=0.5; K=2950;\n",
    "F\n",
    "Expiration=[1/12,1,2]\n",
    "c=np.zeros((3,len(F)))\n",
    "for i in range(3):\n",
    "    T=Expiration[i]\n",
    "    c[i,:]=BlackCall(K,F,T,vol,r)\n",
    "FK=np.maximum(0,(F-K))\n",
    "plt.title('S&P500 Call Options on Futures using the Black Model \\n $c=e^{-rT}[F\\Phi(d_1)-K\\Phi(d_2)]$')\n",
    "plt.plot(F,c[0],F,c[1],F,c[2],F,FK,'-.',K,0,'*')\n",
    "plt.xlabel('S&P500 Futures')\n",
    "plt.ylabel('Call Value')\n",
    "plt.legend (['1 Month to Expiration','1 Year to Expiration',\n",
    "'2 Years to Expiration',\n",
    "'$F-K$','Strike Price = 2950','NorthWest'])\n",
    "plt.savefig(\"Call1.jpg\",bbox_inches='tight')\n",
    "plt.show()\n"
   ]
  },
  {
   "cell_type": "code",
   "execution_count": 100,
   "metadata": {},
   "outputs": [
    {
     "data": {
      "image/png": "[encoded data removed]",
      "text/plain": [
       "<Figure size 432x288 with 1 Axes>"
      ]
     },
     "metadata": {
      "needs_background": "light"
     },
     "output_type": "display_data"
    }
   ],
   "source": [
    "r=0.147; vol=0.5; K=2950;\n",
    "F\n",
    "#Expiration=[1/12,1,2]\n",
    "c=np.zeros((len(F)))\n",
    "#for i in range(3):\n",
    "T=1/12\n",
    "c=BlackCall(K,F,T,vol,r)\n",
    "FK=np.maximum(0,(F-K))\n",
    "plt.title('Black\\'s Call Options on Futures\\n $c=e^{-rT}[F\\Phi(d_1)-K\\Phi(d_2)]$')\n",
    "plt.plot(F,c,F,FK,'-.',K,0,'*')\n",
    "plt.xlabel('S&P500 Futures')\n",
    "plt.ylabel('Call Value')\n",
    "plt.legend (['1 Month to Expiration',\n",
    "'$F-K$','Strike Price = 2950','NorthWest'])\n",
    "plt.savefig(\"Call11.jpg\",bbox_inches='tight')\n",
    "plt.show()"
   ]
  },
  {
   "cell_type": "code",
   "execution_count": 99,
   "metadata": {},
   "outputs": [
    {
     "data": {
      "image/png": "[encoded data removed]",
      "text/plain": [
       "<Figure size 432x288 with 1 Axes>"
      ]
     },
     "metadata": {
      "needs_background": "light"
     },
     "output_type": "display_data"
    }
   ],
   "source": [
    "r=0.147; vol=0.5; K=2950;\n",
    "F\n",
    "#Expiration=[1/12,1,2]\n",
    "c=np.zeros((len(F)))\n",
    "#for i in range(3):\n",
    "T=1\n",
    "c=BlackCall(K,F,T,vol,r)\n",
    "FK=np.maximum(0,(F-K))\n",
    "plt.title('Black\\'s Call Options on Futures\\n $c=e^{-rT}[F\\Phi(d_1)-K\\Phi(d_2)]$')\n",
    "plt.plot(F,c,F,FK,'-.',K,0,'*')\n",
    "plt.xlabel('S&P500 Futures')\n",
    "plt.ylabel('Call Value')\n",
    "plt.legend (['1 Year to Expiration',\n",
    "'$F-K$','Strike Price = 2950','NorthWest'])\n",
    "plt.savefig(\"Call22.jpg\",bbox_inches='tight')\n",
    "plt.show()"
   ]
  },
  {
   "cell_type": "code",
   "execution_count": 16,
   "metadata": {},
   "outputs": [
    {
     "data": {
      "image/png": "[encoded data removed]",
      "text/plain": [
       "<Figure size 432x288 with 1 Axes>"
      ]
     },
     "metadata": {
      "needs_background": "light"
     },
     "output_type": "display_data"
    }
   ],
   "source": [
    "r=0.147; vol=0.5; K=2950;\n",
    "F\n",
    "#Expiration=[1/12,1,2]\n",
    "c=np.zeros((len(F)))\n",
    "#for i in range(3):\n",
    "T=2\n",
    "c=BlackCall(K,F,T,vol,r)\n",
    "FK=np.maximum(0,(F-K))\n",
    "plt.title('S&P500 Call Options on Futures using the Black Model \\n $c=e^{-rT}[F\\Phi(d_1)-K\\Phi(d_2)]$')\n",
    "plt.plot(F,c,F,FK,'-.',K,0,'*')\n",
    "plt.xlabel('S&P500 Futures')\n",
    "plt.ylabel('Call Value')\n",
    "plt.legend (['1 Month to Expiration','1 Year to Expiration',\n",
    "'2 Years to Expiration',\n",
    "'$F-K$','Strike Price = 2950','NorthWest'])\n",
    "plt.savefig(\"Call1.jpg\",bbox_inches='tight')\n",
    "plt.show()"
   ]
  },
  {
   "cell_type": "markdown",
   "metadata": {},
   "source": [
    "### 4) Pricing S\\&P500 Call on Predicted Futures"
   ]
  },
  {
   "cell_type": "code",
   "execution_count": 17,
   "metadata": {},
   "outputs": [],
   "source": [
    "def BlackCall_New(K,FN,T,vol,r):\n",
    "    d1 = (np.log(FN/K)+ ((vol**2)/2)*T)/ (vol*np.sqrt(T))\n",
    "    d2 = d1-vol*np.sqrt(T)\n",
    "    myNormCDF1=np.array([myNormCDF(a) for a in d1])\n",
    "    myNormCDF2=np.array([myNormCDF(b) for b in d2])\n",
    "    return np.exp(-r*T)*(FN*myNormCDF1-K*myNormCDF2)"
   ]
  },
  {
   "cell_type": "code",
   "execution_count": 18,
   "metadata": {},
   "outputs": [],
   "source": [
    "#r=0.147; vol=0.5; K=2950;\n",
    "#FN\n",
    "#Expiration=[1/12,1,2]\n",
    "#c=np.zeros((3,len(FN)))\n",
    "#for i in range(3):\n",
    "#    T=Expiration[i]\n",
    "#    c[i,:]=BlackCall_New(K,FN,T,vol,r)\n",
    "#FNK=np.maximum(0,(FN-K))\n",
    "#plt.title('S&P500 Call Options on Predicted Futures using the Black Model \\n $c=e^{-rT}[F\\Phi(d_1)-K\\Phi(d_2)]$')\n",
    "#plt.plot(FN,c[0],FN,c[1],FN,c[2],FN,FNK,'-.',K,0,'*')\n",
    "#plt.xlabel('S&P500 Futures')\n",
    "#plt.ylabel('Call Value')\n",
    "#plt.legend (['1 Month to Expiration','1 Year to Expiration',\n",
    "#'2 Years to Expiration',\n",
    "#'$F-K$','Strike Price = 2950','NorthWest'])\n",
    "#plt.savefig(\"Call2.jpg\",bbox_inches='tight')\n",
    "#plt.show()"
   ]
  },
  {
   "cell_type": "code",
   "execution_count": null,
   "metadata": {},
   "outputs": [],
   "source": []
  },
  {
   "cell_type": "markdown",
   "metadata": {},
   "source": [
    "### 5) Pricing of S\\&P500 Put Options"
   ]
  },
  {
   "cell_type": "code",
   "execution_count": 19,
   "metadata": {},
   "outputs": [],
   "source": [
    "def BlackPut(K,F,T,vol,r):\n",
    "    d1 = (np.log(F/K)+ ((vol**2)/2)*T)/ (vol*np.sqrt(T))\n",
    "    d2 = d1-vol*np.sqrt(T)\n",
    "    myNormCDF1=np.array([myNormCDF(a) for a in d1])\n",
    "    myNormCDF2=np.array([myNormCDF(b) for b in d2])\n",
    "    return np.exp(-r*T)*(K*myNormCDF1*(-d2)-F*myNormCDF1*(-d1))\n"
   ]
  },
  {
   "cell_type": "code",
   "execution_count": 20,
   "metadata": {},
   "outputs": [],
   "source": [
    "r=0.147; vol=0.5; K=3450;\n",
    "F\n",
    "Expiration=[4/12,1,2]\n",
    "c=np.zeros((3,len(F)))\n",
    "for i in range(3):\n",
    "    T=Expiration[i]\n",
    "    c[i,:]=BlackPut(K,F,T,vol,r)\n",
    "FK=np.maximum(0,(K-F))\n",
    "#plt.title('S&P500 Put Options using the Black Model \\n $p=e^{-rT}[K\\Phi(-d_2)-F\\Phi(-d_1)]$')\n",
    "#plt.plot(F,c[0],F,c[1],F,c[2],F,FK,'-.',K,0,'*')\n",
    "#plt.xlabel('S&P500 Futures')\n",
    "#plt.ylabel('Put Value')\n",
    "#plt.legend (['1 Month to Expiration','1 Year to Expiration',\n",
    "#'2 Years to Expiration',\n",
    "#'$K-F$','Strike Price','NorthWest'])\n",
    "#plt.savefig(\"App2.jpg\")\n",
    "#plt.show()"
   ]
  },
  {
   "cell_type": "code",
   "execution_count": null,
   "metadata": {},
   "outputs": [],
   "source": []
  },
  {
   "cell_type": "markdown",
   "metadata": {},
   "source": [
    "### 6) Delta Greek Dependence"
   ]
  },
  {
   "cell_type": "code",
   "execution_count": 21,
   "metadata": {},
   "outputs": [],
   "source": [
    "def BlackDelta(K,F,T,vol,r):\n",
    "    d1 = (np.log(F/K)+ ((vol**2)/2)*T)/ (vol*np.sqrt(T))\n",
    "    myNormCDF1=np.array([myNormCDF(a) for a in d1])\n",
    "    return np.exp(-r*T)*myNormCDF1"
   ]
  },
  {
   "cell_type": "code",
   "execution_count": 106,
   "metadata": {},
   "outputs": [
    {
     "data": {
      "image/png": "[encoded data removed]",
      "text/plain": [
       "<Figure size 432x288 with 1 Axes>"
      ]
     },
     "metadata": {
      "needs_background": "light"
     },
     "output_type": "display_data"
    }
   ],
   "source": [
    "r=0.05; vol=0.3; K=2950;\n",
    "F\n",
    "Expiration=[1/12,1,2]\n",
    "DeltavF=np.zeros((3,len(F)))\n",
    "for i in range(3):\n",
    "    T=i+1/365\n",
    "    DeltavF[i,:]=BlackDelta(K,F,T,vol,r )\n",
    "plt.plot (F,DeltavF[0],F,DeltavF[1],F,DeltavF[2],K,0,'*')\n",
    "plt.xlabel('S&P500 Futures Price')\n",
    "plt.ylabel('$\\Delta =$ $\\partial$c/$\\partial$F')\n",
    "plt.title('S&P500 Delta Dependence in Black\\'s Model')\n",
    "plt.legend (['1 Day to Expiration','1 Year to Expiration',\n",
    "'2 years to Expiration','Strike Price','NorthWest'])\n",
    "plt.savefig(\"Dep.jpg\")\n",
    "plt.show()\n"
   ]
  },
  {
   "cell_type": "code",
   "execution_count": null,
   "metadata": {},
   "outputs": [],
   "source": []
  },
  {
   "cell_type": "markdown",
   "metadata": {},
   "source": [
    "### 7) S&P500 Put-Call Parity Condition\n"
   ]
  },
  {
   "cell_type": "code",
   "execution_count": 23,
   "metadata": {},
   "outputs": [],
   "source": [
    "def BlackCall2(K,F,T,vol,r):\n",
    "    d1 = (np.log(F/K)+ ((vol**2)/2)*T)/ (vol*np.sqrt(T))\n",
    "    d2 = d1-vol*np.sqrt(T)\n",
    "    myNormCDF1=np.array([myNormCDF(a) for a in d1])\n",
    "    myNormCDF2=np.array([myNormCDF(b) for b in d2])\n",
    "    return np.exp(-r*T)*(F*myNormCDF1-K*myNormCDF2)"
   ]
  },
  {
   "cell_type": "code",
   "execution_count": 24,
   "metadata": {},
   "outputs": [],
   "source": [
    "def BlackPut2(K,F,T,vol,r):\n",
    "    d1 = (np.log(F/K)+ ((vol**2)/2)*T)/ (vol*np.sqrt(T))\n",
    "    d2 = d1-vol*np.sqrt(T)\n",
    "    myNormCDF1=np.array([myNormCDF(-a) for a in d1])\n",
    "    myNormCDF2=np.array([myNormCDF(-b) for b in d2])\n",
    "    return np.exp(-r*T)*(K*myNormCDF2-F*myNormCDF1)"
   ]
  },
  {
   "cell_type": "code",
   "execution_count": 107,
   "metadata": {},
   "outputs": [
    {
     "data": {
      "image/png": "[encoded data removed]",
      "text/plain": [
       "<Figure size 432x288 with 1 Axes>"
      ]
     },
     "metadata": {
      "needs_background": "light"
     },
     "output_type": "display_data"
    }
   ],
   "source": [
    "F \n",
    "K=2950\n",
    "T=1\n",
    "c=np.zeros((3,len(F)))\n",
    "p=np.zeros((3,len(F)))\n",
    "\n",
    "c = BlackCall2(K,F,T,vol,r )\n",
    "p = BlackPut2(K,F,T,vol,r)\n",
    "\n",
    "plt.plot(F,c,F,p,F,c-p,'--', F, p-c,'-.', K,0,'*')\n",
    "plt.xlabel('S&P500 Price'); plt.ylabel('Option Value')\n",
    "plt.title('S&P500 Put-Call Parity')\n",
    "plt.legend (['Call','Put','$SPX_c-SPX_p=e^{-rT}(S(t)-K)$','$SPX_p-SPX_c=e^{-rT}(K-S(t))$','Strike Price','North'])\n",
    "plt.savefig(\"PC3.jpg\",bbox_inches='tight')\n",
    "plt.show()"
   ]
  },
  {
   "cell_type": "code",
   "execution_count": null,
   "metadata": {},
   "outputs": [],
   "source": []
  },
  {
   "cell_type": "markdown",
   "metadata": {},
   "source": [
    "### 8) Pricing Call Options for Different Parameters"
   ]
  },
  {
   "cell_type": "code",
   "execution_count": 26,
   "metadata": {},
   "outputs": [],
   "source": [
    "def BlackCall3(K,F3,T2,vol,r):\n",
    "    d1 = (np.log(F3/K)+ ((vol**2)/2)*T2)/ (vol*np.sqrt(T2))\n",
    "    d2 = d1-vol*np.sqrt(T2)\n",
    "    return np.exp(-r*T2)*(F3*myNormCDF(d1)-K*myNormCDF(d2))"
   ]
  },
  {
   "cell_type": "code",
   "execution_count": 27,
   "metadata": {},
   "outputs": [
    {
     "data": {
      "text/plain": [
       "237.78611473590018"
      ]
     },
     "execution_count": 27,
     "metadata": {},
     "output_type": "execute_result"
    }
   ],
   "source": [
    "BlackCall3(4250,4474.25,1/12,0.1639,0.05)"
   ]
  },
  {
   "cell_type": "code",
   "execution_count": null,
   "metadata": {},
   "outputs": [],
   "source": []
  },
  {
   "cell_type": "markdown",
   "metadata": {},
   "source": [
    "### 9) Pricing Put Options for Different Parameters"
   ]
  },
  {
   "cell_type": "code",
   "execution_count": 28,
   "metadata": {},
   "outputs": [],
   "source": [
    "def BlackPut3(K,F4,T3,vol,r):\n",
    "    d1 = (np.log(F4/K)+ ((vol**2)/2)*T3)/ (vol*np.sqrt(T3))\n",
    "    d2 = d1-vol*np.sqrt(T3)\n",
    "    return np.exp(-r*T3)*(K*myNormCDF(-d2)-F4*myNormCDF(-d1))"
   ]
  },
  {
   "cell_type": "code",
   "execution_count": 29,
   "metadata": {},
   "outputs": [
    {
     "data": {
      "text/plain": [
       "1.1570906258526057"
      ]
     },
     "execution_count": 29,
     "metadata": {},
     "output_type": "execute_result"
    }
   ],
   "source": [
    "BlackPut3(4020,4464.33,1/12,0.171,1.08)"
   ]
  },
  {
   "cell_type": "code",
   "execution_count": null,
   "metadata": {},
   "outputs": [],
   "source": []
  },
  {
   "cell_type": "markdown",
   "metadata": {},
   "source": [
    "## 10) Barone-Adesi-Whaley Quadratic Approximation"
   ]
  },
  {
   "cell_type": "code",
   "execution_count": 30,
   "metadata": {},
   "outputs": [],
   "source": [
    "def Barone_Adesi_Whaley_BlackCall(K,F,T,vol,r):\n",
    "    d2 = d1-vol*np.sqrt(T)\n",
    "    return np.exp(-r*T)*(F*myNormCDF(d1)-K*myNormCDF(d2))"
   ]
  },
  {
   "cell_type": "code",
   "execution_count": 95,
   "metadata": {},
   "outputs": [
    {
     "data": {
      "image/png": "[encoded data removed]",
      "text/plain": [
       "<Figure size 432x288 with 1 Axes>"
      ]
     },
     "metadata": {
      "needs_background": "light"
     },
     "output_type": "display_data"
    }
   ],
   "source": [
    "F\n",
    "r=0.3\n",
    "vol=0.3\n",
    "deviat=1000\n",
    "K=2950\n",
    "Fstar=K*1.5\n",
    "T=1\n",
    "Mdivh=2*r/(vol**2*(1-np.exp(-r*T)))\n",
    "q2= 0.5*(1+np.sqrt(1+4*Mdivh))\n",
    "#myNormCDF3=np.array([myNormCDF(c) for a in d1])\n",
    "#myNormCDF2=np.array([myNormCDF(b) for b in d2])\n",
    "\n",
    "while(deviat>10**(-10)):\n",
    "    d1 = (np.log(Fstar/K)+ (vol**2/2)*T)/(vol*np.sqrt(T))\n",
    "    #print(\"d1\",d1)\n",
    "    g=Barone_Adesi_Whaley_BlackCall(K,Fstar,T,vol,r)+(Fstar/q2)*(1-np.exp(-r*T)*myNormCDF(d1))-Fstar+K\n",
    "    #print(\"K,Fstar,T,vol,r\",K,Fstar,T,vol,r)\n",
    "    #print(\"g\",g)\n",
    "    gprime = -1+(np.exp(-r*T)*myNormCDF(d1))*(1-1/q2)+(1/q2)*(1-(np.exp(-r*T)*myNormPDF(d1))/(vol*np.sqrt(T)))\n",
    "    #print(\"gprime\",gprime)\n",
    "    deviat=g/gprime\n",
    "    #print(\"deviat\",deviat)\n",
    "    Fstar=Fstar-deviat\n",
    "    #print(\"Fstar\",Fstar)\n",
    "    deviat=np.abs(deviat)\n",
    "    #print(\"deviat\",deviat)\n",
    "    #print(\"-----------------------\\n\\n\\n\")\n",
    "\n",
    "#print(1, 'Critical Futures Price = %6.2f \\n', Fstar)\n",
    "Fmin=1824.5; Fmax=4342.75; Fstep=0.1\n",
    "FstarIndex=int(round((Fstar-Fmin)/Fstep));\n",
    "F=np.arange(Fmin,Fmax,Fstep);\n",
    "cEuropean=BlackCall(K,F,T,vol,r);\n",
    "#Vectorize Code and avoid for-if loop to speed up code\n",
    "CAmerican=np.zeros(len(F));\n",
    "\n",
    "#C(F,T) = Quadrature Approx for F < Fstar\n",
    "A2=np.zeros(len(F))\n",
    "A2[0:FstarIndex-1]=(Fstar/q2)*(1-np.exp(-r*T)*myNormCDF(d1))\n",
    "CAmerican[0:FstarIndex-1]=cEuropean[0:FstarIndex-1]+A2[0:FstarIndex-1]*(F[0:FstarIndex-1]/Fstar)**q2;\n",
    "\n",
    "##C(F,T) = F-K for F >= Fstar\n",
    "CAmerican[FstarIndex:]=F[FstarIndex:]-K;\n",
    "FK=np.maximum(0,F-K);\n",
    "FKemrt=np.exp(-r*T)*FK;\n",
    "FstarK=Fstar-K;\n",
    "\n",
    "CAmerican[22820]=(CAmerican[22819]+CAmerican[22821])/2\n",
    "\n",
    "#plt.plot(F,CAmerican,label=\"American Call\")\n",
    "#plt.plot(F,cEuropean,label=\"European Call\")\n",
    "#plt.plot(F,FK,'--',label='$F-K$')\n",
    "#plt.plot(F,FKemrt,'-.',label=\"$e^{-rT}(F-K)$\")\n",
    "#plt.legend()\n",
    "plt.title('Barone-Adesi-Whaley Quadratic Approximation \\n of European & American Call Options')\n",
    "#plt.xlabel('Futures'); plt.ylabel('Call Value')\n",
    "#plt.plot(Fstar,FstarK)\n",
    "#plt.legend([\"CAmerican\",\"cEuropean\",\"FK\",\"FKemrt\",\"FstarK\"]);\n",
    "plt.plot(F,CAmerican,F,cEuropean,F,FK,'--',F,FKemrt,'-.',Fstar,FstarK,'*',K,0,'*')\n",
    "plt.xlabel('Futures Price'); \n",
    "plt.ylabel('Call Value');\n",
    "plt.legend (['American call','European call','F-K','$e^{-rT}(F-K)$','Critical Futures Price ','Strike Price = 2950']);\n",
    "plt.savefig(\"EA_Call.jpg\",bbox_inches='tight')\n",
    "plt.show()"
   ]
  },
  {
   "cell_type": "code",
   "execution_count": 74,
   "metadata": {},
   "outputs": [
    {
     "data": {
      "text/plain": [
       "array([1.80894530e-04, 1.81063913e-04, 1.81233449e-04, ...,\n",
       "       1.39250000e+03, 1.39260000e+03, 1.39270000e+03])"
      ]
     },
     "execution_count": 74,
     "metadata": {},
     "output_type": "execute_result"
    }
   ],
   "source": [
    "CAmerican"
   ]
  },
  {
   "cell_type": "code",
   "execution_count": 72,
   "metadata": {},
   "outputs": [
    {
     "data": {
      "text/plain": [
       "array([   0. ,    0. ,    0. , ..., 1392.5, 1392.6, 1392.7])"
      ]
     },
     "execution_count": 72,
     "metadata": {},
     "output_type": "execute_result"
    }
   ],
   "source": [
    "FK"
   ]
  },
  {
   "cell_type": "code",
   "execution_count": 81,
   "metadata": {},
   "outputs": [
    {
     "data": {
      "text/plain": [
       "(array([16558, 16559, 16560, ..., 25180, 25181, 25182], dtype=int64),)"
      ]
     },
     "execution_count": 81,
     "metadata": {},
     "output_type": "execute_result"
    }
   ],
   "source": [
    "G=np.where(CAmerican==F-K) \n",
    "G"
   ]
  },
  {
   "cell_type": "code",
   "execution_count": 77,
   "metadata": {},
   "outputs": [
    {
     "data": {
      "text/plain": [
       "530.2999999984941"
      ]
     },
     "execution_count": 77,
     "metadata": {},
     "output_type": "execute_result"
    }
   ],
   "source": [
    "CAmerican[16558]"
   ]
  },
  {
   "cell_type": "code",
   "execution_count": null,
   "metadata": {},
   "outputs": [],
   "source": [
    "np.where(CAmerican == 0)[0]"
   ]
  },
  {
   "cell_type": "markdown",
   "metadata": {},
   "source": [
    "#### a) B-A-Whaley Quadratic Approximation for a Call Option"
   ]
  },
  {
   "cell_type": "markdown",
   "metadata": {},
   "source": [
    "The appriximate value of an American Call Option written on a Futures contract is given by:\n",
    "    $$C(F,T) = c(F,T)+A_2(F/F^{*})^{q_2} ~~~~F<F^{*}$$\n",
    "    $$C(F,T) = F - X, ~~~~F\\geq F^{*}$$\n",
    " A python translation of these is as follows"
   ]
  },
  {
   "cell_type": "code",
   "execution_count": 33,
   "metadata": {},
   "outputs": [],
   "source": [
    "#C(F,T) = Quadrature Approx for F < Fstar\n",
    "A2=np.zeros(len(F))\n",
    "A2[0:FstarIndex-1]=(Fstar/q2)*(1-np.exp(-r*T)*myNormCDF(d1))\n",
    "CAmerican[0:FstarIndex-1]=cEuropean[0:FstarIndex-1]+A2[0:FstarIndex-1]*(F[0:FstarIndex-1]/Fstar)**q2;\n",
    "\n",
    "##C(F,T) = F-K for F >= Fstar\n",
    "\n",
    "CAmerican[FstarIndex:]=F[FstarIndex:]-K;\n",
    "FK=np.maximum(0,F-K);\n",
    "FKemrt=np.exp(-r*T)*FK;\n",
    "FstarK=Fstar-K;"
   ]
  },
  {
   "cell_type": "code",
   "execution_count": null,
   "metadata": {},
   "outputs": [],
   "source": []
  },
  {
   "cell_type": "code",
   "execution_count": null,
   "metadata": {},
   "outputs": [],
   "source": []
  },
  {
   "cell_type": "code",
   "execution_count": 96,
   "metadata": {},
   "outputs": [
    {
     "data": {
      "image/png": "[encoded data removed]",
      "text/plain": [
       "<Figure size 432x288 with 1 Axes>"
      ]
     },
     "metadata": {
      "needs_background": "light"
     },
     "output_type": "display_data"
    }
   ],
   "source": [
    "F\n",
    "r=0.3\n",
    "vol=0.3\n",
    "deviat=1000\n",
    "K=2950\n",
    "Fstar=K*1.5\n",
    "T=1/12\n",
    "Mdivh=2*r/(vol**2*(1-np.exp(-r*T)))\n",
    "q2= 0.5*(1+np.sqrt(1+4*Mdivh))\n",
    "#myNormCDF3=np.array([myNormCDF(c) for a in d1])\n",
    "#myNormCDF2=np.array([myNormCDF(b) for b in d2])\n",
    "\n",
    "while(deviat>10**(-10)):\n",
    "    d1 = (np.log(Fstar/K)+ (vol**2/2)*T)/(vol*np.sqrt(T))\n",
    "    #print(\"d1\",d1)\n",
    "    g=Barone_Adesi_Whaley_BlackCall(K,Fstar,T,vol,r)+(Fstar/q2)*(1-np.exp(-r*T)*myNormCDF(d1))-Fstar+K\n",
    "    #print(\"K,Fstar,T,vol,r\",K,Fstar,T,vol,r)\n",
    "    #print(\"g\",g)\n",
    "    gprime = -1+(np.exp(-r*T)*myNormCDF(d1))*(1-1/q2)+(1/q2)*(1-(np.exp(-r*T)*myNormPDF(d1))/(vol*np.sqrt(T)))\n",
    "    #print(\"gprime\",gprime)\n",
    "    deviat=g/gprime\n",
    "    #print(\"deviat\",deviat)\n",
    "    Fstar=Fstar-deviat\n",
    "    #print(\"Fstar\",Fstar)\n",
    "    deviat=np.abs(deviat)\n",
    "    #print(\"deviat\",deviat)\n",
    "    #print(\"-----------------------\\n\\n\\n\")\n",
    "\n",
    "#print(1, 'Critical Futures Price = %6.2f \\n', Fstar)\n",
    "Fmin=1824.5; Fmax=4342.75; Fstep=0.1\n",
    "FstarIndex=int(round((Fstar-Fmin)/Fstep));\n",
    "F=np.arange(Fmin,Fmax,Fstep);\n",
    "cEuropean=BlackCall(K,F,T,vol,r);\n",
    "pEuropean = BlackPut(K,F,T,vol,r);\n",
    "#Vectorize Code and avoid for-if loop to speed up code\n",
    "CAmerican=np.zeros(len(F));\n",
    "\n",
    "#C(F,T) = Quadrature Approx for F < Fstar\n",
    "A2=np.zeros(len(F))\n",
    "A2[0:FstarIndex-1]=(Fstar/q2)*(1-np.exp(-r*T)*myNormCDF(d1))\n",
    "CAmerican[0:FstarIndex-1]=cEuropean[0:FstarIndex-1]+A2[0:FstarIndex-1]*(F[0:FstarIndex-1]/Fstar)**q2;\n",
    "\n",
    "##C(F,T) = F-K for F >= Fstar\n",
    "CAmerican[FstarIndex:]=F[FstarIndex:]-K;\n",
    "FK=np.maximum(0,F-K);\n",
    "FKemrt=np.exp(-r*T)*FK;\n",
    "FstarK=Fstar-K;\n",
    "\n",
    "CAmerican[22820]=(CAmerican[22819]+CAmerican[22821])/2\n",
    "\n",
    "#plt.plot(F,CAmerican,label=\"American Call\")\n",
    "plt.plot(F,cEuropean,label=\"1 Month to Expiration\")\n",
    "#plt.plot(F,FK,'--',label='$F-K$')\n",
    "plt.plot(F,FKemrt,'-.',label=\"$e^{-rT}(F-K)$\")\n",
    "plt.legend()\n",
    "plt.title('Barone-Adesi-Whaley Quadratic Approximation \\n of Call Options on Futures\\n $c = A_2(F/F^*)^{q_2} - C(F,T)$')\n",
    "plt.xlabel('S&P500 Futures'); plt.ylabel('Call Value')\n",
    "#plt.plot(Fstar,FstarK)\n",
    "#plt.legend([\"CAmerican\",\"cEuropean\",\"FK\",\"FKemrt\",\"FstarK\"]);\n",
    "plt.savefig(\"Call33.jpg\",bbox_inches='tight')\n",
    "plt.show()"
   ]
  },
  {
   "cell_type": "code",
   "execution_count": 97,
   "metadata": {},
   "outputs": [
    {
     "data": {
      "image/png": "[encoded data removed]",
      "text/plain": [
       "<Figure size 432x288 with 1 Axes>"
      ]
     },
     "metadata": {
      "needs_background": "light"
     },
     "output_type": "display_data"
    }
   ],
   "source": [
    "F\n",
    "r=0.3\n",
    "vol=0.3\n",
    "deviat=1000\n",
    "K=2950\n",
    "Fstar=K*1.5\n",
    "T=1\n",
    "Mdivh=2*r/(vol**2*(1-np.exp(-r*T)))\n",
    "q2= 0.5*(1+np.sqrt(1+4*Mdivh))\n",
    "#myNormCDF3=np.array([myNormCDF(c) for a in d1])\n",
    "#myNormCDF2=np.array([myNormCDF(b) for b in d2])\n",
    "\n",
    "while(deviat>10**(-10)):\n",
    "    d1 = (np.log(Fstar/K)+ (vol**2/2)*T)/(vol*np.sqrt(T))\n",
    "    #print(\"d1\",d1)\n",
    "    g=Barone_Adesi_Whaley_BlackCall(K,Fstar,T,vol,r)+(Fstar/q2)*(1-np.exp(-r*T)*myNormCDF(d1))-Fstar+K\n",
    "    #print(\"K,Fstar,T,vol,r\",K,Fstar,T,vol,r)\n",
    "    #print(\"g\",g)\n",
    "    gprime = -1+(np.exp(-r*T)*myNormCDF(d1))*(1-1/q2)+(1/q2)*(1-(np.exp(-r*T)*myNormPDF(d1))/(vol*np.sqrt(T)))\n",
    "    #print(\"gprime\",gprime)\n",
    "    deviat=g/gprime\n",
    "    #print(\"deviat\",deviat)\n",
    "    Fstar=Fstar-deviat\n",
    "    #print(\"Fstar\",Fstar)\n",
    "    deviat=np.abs(deviat)\n",
    "    #print(\"deviat\",deviat)\n",
    "    #print(\"-----------------------\\n\\n\\n\")\n",
    "\n",
    "#print(1, 'Critical Futures Price = %6.2f \\n', Fstar)\n",
    "Fmin=1824.5; Fmax=4342.75; Fstep=0.1\n",
    "FstarIndex=int(round((Fstar-Fmin)/Fstep));\n",
    "F=np.arange(Fmin,Fmax,Fstep);\n",
    "cEuropean=BlackCall(K,F,T,vol,r);\n",
    "#Vectorize Code and avoid for-if loop to speed up code\n",
    "CAmerican=np.zeros(len(F));\n",
    "\n",
    "#C(F,T) = Quadrature Approx for F < Fstar\n",
    "A2=np.zeros(len(F))\n",
    "A2[0:FstarIndex-1]=(Fstar/q2)*(1-np.exp(-r*T)*myNormCDF(d1))\n",
    "CAmerican[0:FstarIndex-1]=cEuropean[0:FstarIndex-1]+A2[0:FstarIndex-1]*(F[0:FstarIndex-1]/Fstar)**q2;\n",
    "\n",
    "##C(F,T) = F-K for F >= Fstar\n",
    "CAmerican[FstarIndex:]=F[FstarIndex:]-K;\n",
    "FK=np.maximum(0,F-K);\n",
    "FKemrt=np.exp(-r*T)*FK;\n",
    "FstarK=Fstar-K;\n",
    "\n",
    "CAmerican[22820]=(CAmerican[22819]+CAmerican[22821])/2\n",
    "\n",
    "#plt.plot(F,CAmerican,label=\"American Call\")\n",
    "plt.plot(F,cEuropean,label=\"1 Year to Expiration\")\n",
    "#plt.plot(F,FK,'--',label='$F-K$')\n",
    "plt.plot(F,FKemrt,'-.',label=\"$e^{-rT}(F-K)$\")\n",
    "plt.legend()\n",
    "plt.title('Barone-Adesi-Whaley Quadratic Approximation \\n of Call Options on Futures\\n $c = A_2(F/F^*)^{q_2} - C(F,T)$')\n",
    "plt.xlabel('S&P500 Futures'); plt.ylabel('Call Value')\n",
    "#plt.plot(Fstar,FstarK)\n",
    "#plt.legend([\"CAmerican\",\"cEuropean\",\"FK\",\"FKemrt\",\"FstarK\"]);\n",
    "plt.savefig(\"Call44.jpg\",bbox_inches='tight')\n",
    "plt.show()"
   ]
  },
  {
   "cell_type": "code",
   "execution_count": 36,
   "metadata": {},
   "outputs": [
    {
     "data": {
      "image/png": "[encoded data removed]",
      "text/plain": [
       "<Figure size 432x288 with 1 Axes>"
      ]
     },
     "metadata": {
      "needs_background": "light"
     },
     "output_type": "display_data"
    }
   ],
   "source": [
    "F\n",
    "r=0.3\n",
    "vol=0.3\n",
    "deviat=1000\n",
    "K=2950\n",
    "Fstar=K*1.5\n",
    "T=2\n",
    "Mdivh=2*r/(vol**2*(1-np.exp(-r*T)))\n",
    "q2= 0.5*(1+np.sqrt(1+4*Mdivh))\n",
    "#myNormCDF3=np.array([myNormCDF(c) for a in d1])\n",
    "#myNormCDF2=np.array([myNormCDF(b) for b in d2])\n",
    "\n",
    "while(deviat>10**(-10)):\n",
    "    d1 = (np.log(Fstar/K)+ (vol**2/2)*T)/(vol*np.sqrt(T))\n",
    "    #print(\"d1\",d1)\n",
    "    g=Barone_Adesi_Whaley_BlackCall(K,Fstar,T,vol,r)+(Fstar/q2)*(1-np.exp(-r*T)*myNormCDF(d1))-Fstar+K\n",
    "    #print(\"K,Fstar,T,vol,r\",K,Fstar,T,vol,r)\n",
    "    #print(\"g\",g)\n",
    "    gprime = -1+(np.exp(-r*T)*myNormCDF(d1))*(1-1/q2)+(1/q2)*(1-(np.exp(-r*T)*myNormPDF(d1))/(vol*np.sqrt(T)))\n",
    "    #print(\"gprime\",gprime)\n",
    "    deviat=g/gprime\n",
    "    #print(\"deviat\",deviat)\n",
    "    Fstar=Fstar-deviat\n",
    "    #print(\"Fstar\",Fstar)\n",
    "    deviat=np.abs(deviat)\n",
    "    #print(\"deviat\",deviat)\n",
    "    #print(\"-----------------------\\n\\n\\n\")\n",
    "\n",
    "#print(1, 'Critical Futures Price = %6.2f \\n', Fstar)\n",
    "Fmin=1824.5; Fmax=4342.75; Fstep=0.1\n",
    "FstarIndex=int(round((Fstar-Fmin)/Fstep));\n",
    "F=np.arange(Fmin,Fmax,Fstep);\n",
    "cEuropean=BlackCall(K,F,T,vol,r);\n",
    "#Vectorize Code and avoid for-if loop to speed up code\n",
    "CAmerican=np.zeros(len(F));\n",
    "\n",
    "#C(F,T) = Quadrature Approx for F < Fstar\n",
    "A2=np.zeros(len(F))\n",
    "A2[0:FstarIndex-1]=(Fstar/q2)*(1-np.exp(-r*T)*myNormCDF(d1))\n",
    "CAmerican[0:FstarIndex-1]=cEuropean[0:FstarIndex-1]+A2[0:FstarIndex-1]*(F[0:FstarIndex-1]/Fstar)**q2;\n",
    "\n",
    "##C(F,T) = F-K for F >= Fstar\n",
    "CAmerican[FstarIndex:]=F[FstarIndex:]-K;\n",
    "FK=np.maximum(0,F-K);\n",
    "FKemrt=np.exp(-r*T)*FK;\n",
    "FstarK=Fstar-K;\n",
    "\n",
    "CAmerican[22820]=(CAmerican[22819]+CAmerican[22821])/2\n",
    "\n",
    "#plt.plot(F,CAmerican,label=\"American Call\")\n",
    "plt.plot(F,cEuropean,label=\"European Call\")\n",
    "#plt.plot(F,FK,'--',label='$F-K$')\n",
    "plt.plot(F,FKemrt,'-.',label=\"$e^{-rT}(F-K)$\")\n",
    "plt.legend()\n",
    "plt.title('Barone-Adesi-Whaley Quadratic Approximation \\n of European & American Call Options')\n",
    "plt.xlabel('Futures'); plt.ylabel('Call Value')\n",
    "#plt.plot(Fstar,FstarK)\n",
    "#plt.legend([\"CAmerican\",\"cEuropean\",\"FK\",\"FKemrt\",\"FstarK\"]);\n",
    "plt.show()"
   ]
  },
  {
   "cell_type": "markdown",
   "metadata": {},
   "source": []
  },
  {
   "cell_type": "code",
   "execution_count": null,
   "metadata": {},
   "outputs": [],
   "source": []
  },
  {
   "cell_type": "markdown",
   "metadata": {},
   "source": [
    "### Pricing Call Options using Barone-Adesi-Whaley Approximation"
   ]
  },
  {
   "cell_type": "code",
   "execution_count": 37,
   "metadata": {},
   "outputs": [],
   "source": [
    "def Barone_Adesi_Whaley_BlackCall(K,F,T,vol,r):\n",
    "    d2 = d1-vol*np.sqrt(T)\n",
    "    return np.exp(-r*T)*(F*myNormCDF(d1)-K*myNormCDF(d2))"
   ]
  },
  {
   "cell_type": "code",
   "execution_count": 38,
   "metadata": {},
   "outputs": [],
   "source": [
    "Mdivh=2*r/(vol**2*(1-np.exp(-r*T)))\n",
    "A2=(Fstar/q2)*(1-np.exp(-r*T)*myNormCDF(d1))\n",
    "q2= 0.5*(1+np.sqrt(1+4*Mdivh))"
   ]
  },
  {
   "cell_type": "code",
   "execution_count": 39,
   "metadata": {},
   "outputs": [
    {
     "data": {
      "text/plain": [
       "819.044456304938"
      ]
     },
     "execution_count": 39,
     "metadata": {},
     "output_type": "execute_result"
    }
   ],
   "source": [
    "C = Barone_Adesi_Whaley_BlackCall(4275,4475.50,1/12,0.1650,0.22)\n",
    "F =4439.75;\n",
    "K =4275\n",
    "c = C + A2*(F/Fstar)**q2 \n",
    "c\n"
   ]
  },
  {
   "cell_type": "code",
   "execution_count": 40,
   "metadata": {},
   "outputs": [
    {
     "data": {
      "text/plain": [
       "28.522849958691918"
      ]
     },
     "execution_count": 40,
     "metadata": {},
     "output_type": "execute_result"
    }
   ],
   "source": [
    "C = Barone_Adesi_Whaley_BlackCall(2950,4439.75,3,1.3,1.6)\n",
    "C"
   ]
  },
  {
   "cell_type": "markdown",
   "metadata": {},
   "source": [
    "### BAW Call Option Values"
   ]
  },
  {
   "cell_type": "code",
   "execution_count": 41,
   "metadata": {},
   "outputs": [
    {
     "data": {
      "text/plain": [
       "array([ 34.23093319,  34.24074016,  34.25054899, ..., 845.06650533,\n",
       "       845.11421821, 845.16193172])"
      ]
     },
     "execution_count": 41,
     "metadata": {},
     "output_type": "execute_result"
    }
   ],
   "source": [
    "cEuropean"
   ]
  },
  {
   "cell_type": "code",
   "execution_count": 42,
   "metadata": {},
   "outputs": [
    {
     "data": {
      "text/plain": [
       "(34.230933189770695, 845.1619317191654)"
      ]
     },
     "execution_count": 42,
     "metadata": {},
     "output_type": "execute_result"
    }
   ],
   "source": [
    "min(cEuropean),max(cEuropean)"
   ]
  },
  {
   "cell_type": "markdown",
   "metadata": {},
   "source": [
    "### Pricing Put Options using Barone-Adesi-Whaley Approximation"
   ]
  },
  {
   "cell_type": "code",
   "execution_count": 43,
   "metadata": {},
   "outputs": [],
   "source": [
    "def Barone_Adesi_Whaley_BlackPut(K,F,T,vol,r):\n",
    "    d2 = -d1-vol*np.sqrt(T)\n",
    "    return np.exp(-r*T)*(K*myNormCDF(-d2)-F*myNormCDF(-d1))"
   ]
  },
  {
   "cell_type": "code",
   "execution_count": 44,
   "metadata": {},
   "outputs": [
    {
     "data": {
      "text/plain": [
       "19.231590638027377"
      ]
     },
     "execution_count": 44,
     "metadata": {},
     "output_type": "execute_result"
    }
   ],
   "source": [
    "P = Barone_Adesi_Whaley_BlackPut(2950,4439.75,3,1.3,1.6)\n",
    "P"
   ]
  },
  {
   "cell_type": "code",
   "execution_count": 45,
   "metadata": {},
   "outputs": [
    {
     "data": {
      "text/plain": [
       "623.3776057398076"
      ]
     },
     "execution_count": 45,
     "metadata": {},
     "output_type": "execute_result"
    }
   ],
   "source": [
    "p = P + A2*(F/Fstar)**q2 \n",
    "p"
   ]
  },
  {
   "cell_type": "markdown",
   "metadata": {},
   "source": [
    "### BAW Put Option Values"
   ]
  },
  {
   "cell_type": "code",
   "execution_count": 46,
   "metadata": {},
   "outputs": [
    {
     "data": {
      "text/plain": [
       "array([1.16125343e-04, 1.16520422e-04, 1.16916776e-04, ...,\n",
       "       6.37140524e+03, 6.37220607e+03, 6.37300695e+03])"
      ]
     },
     "execution_count": 46,
     "metadata": {},
     "output_type": "execute_result"
    }
   ],
   "source": [
    "pEuropean"
   ]
  },
  {
   "cell_type": "code",
   "execution_count": 47,
   "metadata": {},
   "outputs": [
    {
     "data": {
      "text/plain": [
       "0.00011612534290520082"
      ]
     },
     "execution_count": 47,
     "metadata": {},
     "output_type": "execute_result"
    }
   ],
   "source": [
    "min(pEuropean)"
   ]
  },
  {
   "cell_type": "code",
   "execution_count": 48,
   "metadata": {},
   "outputs": [],
   "source": [
    "#list(pEuropean)"
   ]
  },
  {
   "cell_type": "code",
   "execution_count": null,
   "metadata": {},
   "outputs": [],
   "source": []
  },
  {
   "cell_type": "markdown",
   "metadata": {},
   "source": [
    "## Black's Root Mean Squared Error (Call Options)"
   ]
  },
  {
   "cell_type": "markdown",
   "metadata": {},
   "source": [
    "$$RMSE = \\sqrt{\\frac{1}{N}\\sum(C_{Actual} - C_{Model})}$$"
   ]
  },
  {
   "cell_type": "code",
   "execution_count": 49,
   "metadata": {},
   "outputs": [
    {
     "name": "stdout",
     "output_type": "stream",
     "text": [
      "Black's RMSE =  31.96397541608365\n"
     ]
    }
   ],
   "source": [
    "from sklearn.metrics import mean_squared_error\n",
    "from math import sqrt\n",
    "import numpy as np\n",
    "#Arrays of Actual and Predicted Call Options\n",
    "Actual = np.array([221.42,223.12,252.09,263.75,293.65])\n",
    "Model = np.array([215.158,256.06,240.521,290.761,237.786])\n",
    "#Calculate RMSE\n",
    "Result = sqrt(mean_squared_error(Actual,Model))\n",
    "# Print the result\n",
    "print(\"Black's RMSE = \", Result)"
   ]
  },
  {
   "cell_type": "code",
   "execution_count": null,
   "metadata": {},
   "outputs": [],
   "source": []
  },
  {
   "cell_type": "markdown",
   "metadata": {},
   "source": [
    "## Black's Root Mean Squared Error (Put Options)"
   ]
  },
  {
   "cell_type": "markdown",
   "metadata": {},
   "source": [
    "$$RMSE = \\sqrt{\\frac{1}{N}\\sum(P_{Actual} - P_{Model})}$$"
   ]
  },
  {
   "cell_type": "code",
   "execution_count": 50,
   "metadata": {},
   "outputs": [
    {
     "name": "stdout",
     "output_type": "stream",
     "text": [
      "Black's RMSE =  3.916548896924434\n"
     ]
    }
   ],
   "source": [
    "from sklearn.metrics import mean_squared_error\n",
    "from math import sqrt\n",
    "import numpy as np\n",
    "#Arrays of Actual and Predicted Put Options\n",
    "Actual = np.array([4.30,4.80,5.60,5.40,4.90])\n",
    "Model = np.array([0.4218,0.7271,2.3545,1.1571,0.8340])\n",
    "#Calculate RMSE\n",
    "Result = sqrt(mean_squared_error(Actual,Model))\n",
    "# Print the result\n",
    "print(\"Black's RMSE = \", Result)"
   ]
  },
  {
   "cell_type": "code",
   "execution_count": null,
   "metadata": {},
   "outputs": [],
   "source": []
  },
  {
   "cell_type": "markdown",
   "metadata": {},
   "source": [
    "## Barone-Adesi-Whaley Root Mean Squared Error (Call Options)"
   ]
  },
  {
   "cell_type": "markdown",
   "metadata": {},
   "source": [
    "$$RMSE = \\sqrt{\\frac{1}{N}\\sum(C_{Actual} - C_{Model})}$$"
   ]
  },
  {
   "cell_type": "code",
   "execution_count": 51,
   "metadata": {},
   "outputs": [
    {
     "name": "stdout",
     "output_type": "stream",
     "text": [
      "BA-W RMSE =  64.05148081660563\n"
     ]
    }
   ],
   "source": [
    "from sklearn.metrics import mean_squared_error\n",
    "from math import sqrt\n",
    "import numpy as np\n",
    "#Arrays of Actual and Predicted Call Options\n",
    "Actual = np.array([221.42,223.12,252.09,263.75,293.65])\n",
    "Model = np.array([214.892,227.314,197.473,201.054,177.293])\n",
    "#Calculate RMSE\n",
    "Result = sqrt(mean_squared_error(Actual, Model))\n",
    "# Print the result\n",
    "print(\"BA-W RMSE = \", Result)"
   ]
  },
  {
   "cell_type": "code",
   "execution_count": null,
   "metadata": {},
   "outputs": [],
   "source": []
  },
  {
   "cell_type": "markdown",
   "metadata": {},
   "source": [
    "## Barone-Adesi-Whaley Root Mean Squared Error (Put Options)"
   ]
  },
  {
   "cell_type": "markdown",
   "metadata": {},
   "source": [
    "$$RMSE = \\sqrt{\\frac{1}{N}\\sum(P_{Actual} - P_{Model})}$$"
   ]
  },
  {
   "cell_type": "code",
   "execution_count": 52,
   "metadata": {},
   "outputs": [
    {
     "name": "stdout",
     "output_type": "stream",
     "text": [
      "BA-W RMSE =  4.439171406918188\n"
     ]
    }
   ],
   "source": [
    "from sklearn.metrics import mean_squared_error\n",
    "from math import sqrt\n",
    "import numpy as np\n",
    "#Arrays of Actual and Predicted Put Options\n",
    "Actual = np.array([4.30,4.80,5.60,5.40,4.90])\n",
    "Model = np.array([0.2116,0.4073,0.9867,0.7230,0.4996])\n",
    "#Calculate RMSE\n",
    "Result = sqrt(mean_squared_error(Actual,Model))\n",
    "# Print the result\n",
    "print(\"BA-W RMSE = \", Result)"
   ]
  },
  {
   "cell_type": "code",
   "execution_count": null,
   "metadata": {},
   "outputs": [],
   "source": []
  }
 ],
 "metadata": {
  "kernelspec": {
   "display_name": "Python 3",
   "language": "python",
   "name": "python3"
  },
  "language_info": {
   "codemirror_mode": {
    "name": "ipython",
    "version": 3
   },
   "file_extension": ".py",
   "mimetype": "text/x-python",
   "name": "python",
   "nbconvert_exporter": "python",
   "pygments_lexer": "ipython3",
   "version": "3.7.4"
  }
 },
 "nbformat": 4,
 "nbformat_minor": 2
}
